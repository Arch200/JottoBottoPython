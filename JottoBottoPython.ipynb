{
  "nbformat": 4,
  "nbformat_minor": 0,
  "metadata": {
    "colab": {
      "name": "JottoBottoPython.ipynb",
      "provenance": [],
      "collapsed_sections": [],
      "authorship_tag": "ABX9TyMBKAkWzoD9C8dC70MkOga0"
    },
    "kernelspec": {
      "name": "python3",
      "display_name": "Python 3"
    },
    "language_info": {
      "name": "python"
    }
  },
  "cells": [
    {
      "cell_type": "markdown",
      "source": [
        "# Introduction\n",
        "\n",
        "Hello thank you for looking at my code! I hope it's fun for you to play should you choose to. \n"
      ],
      "metadata": {
        "id": "E3t6fAWo-awA"
      }
    },
    {
      "cell_type": "markdown",
      "source": [
        "At the start of the first lockdown, I programmed a game called 'JottoBotto' in Java and then in HTML5 (making use of Javascript and CSS as well). This was before I had made a github account. Very recently, I decided to take on this challenge in Python. \n",
        "\n",
        "The concept of the game is as follows. The computer chooses a word from a csv file I made by collecting a list of UK scrabble accepted words that have no duplicate letters. The player then has to guess words and the program shall return how many letters the guessed word has in common with the computer's word. \n",
        "\n",
        "In this version, I focus on four letter words only. "
      ],
      "metadata": {
        "id": "bFsfZfMb9IVP"
      }
    },
    {
      "cell_type": "markdown",
      "source": [
        "# Setting Up The Game\n"
      ],
      "metadata": {
        "id": "3q6XLd8qJzRw"
      }
    },
    {
      "cell_type": "code",
      "execution_count": 4,
      "metadata": {
        "colab": {
          "base_uri": "https://localhost:8080/",
          "height": 79
        },
        "id": "XeB4jaPI9A9e",
        "outputId": "c7984010-0430-4ffb-ccb3-8cc3ae54c434"
      },
      "outputs": [
        {
          "output_type": "execute_result",
          "data": {
            "text/plain": [
              "Empty DataFrame\n",
              "Columns: [abed, abet, abid, able, ably, abos, abri, abut, abye, abys, aced, acer, aces, ache, achy, acid, acme, acne, acre, acts, acyl, adit, ados, adry, adze, aeon, aero, aery, aesc, afro, aged, agen, ager, ages, agin, agio, aglu, agly, agon, ague, ahed, ahem, ahis, ahoy, aide, aids, ails, aims, aine, ains, airn, airs, airt, airy, aits, aitu, aked, akes, akin, albe, albs, alco, alec, alef, ales, alew, alfs, alif, alit, alko, alky, alme, alms, alod, aloe, alow, alps, also, alto, alts, alum, ambo, amen, amid, amie, amin, amir, amis, amok, amps, amus, amyl, ance, ands, anes, anew, anil, anis, ankh, anow, ...]\n",
              "Index: []\n",
              "\n",
              "[0 rows x 4257 columns]"
            ],
            "text/html": [
              "\n",
              "  <div id=\"df-d5dcc881-c625-48f8-93ee-8c3847b609d0\">\n",
              "    <div class=\"colab-df-container\">\n",
              "      <div>\n",
              "<style scoped>\n",
              "    .dataframe tbody tr th:only-of-type {\n",
              "        vertical-align: middle;\n",
              "    }\n",
              "\n",
              "    .dataframe tbody tr th {\n",
              "        vertical-align: top;\n",
              "    }\n",
              "\n",
              "    .dataframe thead th {\n",
              "        text-align: right;\n",
              "    }\n",
              "</style>\n",
              "<table border=\"1\" class=\"dataframe\">\n",
              "  <thead>\n",
              "    <tr style=\"text-align: right;\">\n",
              "      <th></th>\n",
              "      <th>abed</th>\n",
              "      <th>abet</th>\n",
              "      <th>abid</th>\n",
              "      <th>able</th>\n",
              "      <th>ably</th>\n",
              "      <th>abos</th>\n",
              "      <th>abri</th>\n",
              "      <th>abut</th>\n",
              "      <th>abye</th>\n",
              "      <th>abys</th>\n",
              "      <th>...</th>\n",
              "      <th>zona</th>\n",
              "      <th>zone</th>\n",
              "      <th>zonk</th>\n",
              "      <th>zori</th>\n",
              "      <th>zouk</th>\n",
              "      <th>zupa</th>\n",
              "      <th>zurf</th>\n",
              "      <th>zyga</th>\n",
              "      <th>zyme</th>\n",
              "      <th>Unnamed: 4256</th>\n",
              "    </tr>\n",
              "  </thead>\n",
              "  <tbody>\n",
              "  </tbody>\n",
              "</table>\n",
              "<p>0 rows × 4257 columns</p>\n",
              "</div>\n",
              "      <button class=\"colab-df-convert\" onclick=\"convertToInteractive('df-d5dcc881-c625-48f8-93ee-8c3847b609d0')\"\n",
              "              title=\"Convert this dataframe to an interactive table.\"\n",
              "              style=\"display:none;\">\n",
              "        \n",
              "  <svg xmlns=\"http://www.w3.org/2000/svg\" height=\"24px\"viewBox=\"0 0 24 24\"\n",
              "       width=\"24px\">\n",
              "    <path d=\"M0 0h24v24H0V0z\" fill=\"none\"/>\n",
              "    <path d=\"M18.56 5.44l.94 2.06.94-2.06 2.06-.94-2.06-.94-.94-2.06-.94 2.06-2.06.94zm-11 1L8.5 8.5l.94-2.06 2.06-.94-2.06-.94L8.5 2.5l-.94 2.06-2.06.94zm10 10l.94 2.06.94-2.06 2.06-.94-2.06-.94-.94-2.06-.94 2.06-2.06.94z\"/><path d=\"M17.41 7.96l-1.37-1.37c-.4-.4-.92-.59-1.43-.59-.52 0-1.04.2-1.43.59L10.3 9.45l-7.72 7.72c-.78.78-.78 2.05 0 2.83L4 21.41c.39.39.9.59 1.41.59.51 0 1.02-.2 1.41-.59l7.78-7.78 2.81-2.81c.8-.78.8-2.07 0-2.86zM5.41 20L4 18.59l7.72-7.72 1.47 1.35L5.41 20z\"/>\n",
              "  </svg>\n",
              "      </button>\n",
              "      \n",
              "  <style>\n",
              "    .colab-df-container {\n",
              "      display:flex;\n",
              "      flex-wrap:wrap;\n",
              "      gap: 12px;\n",
              "    }\n",
              "\n",
              "    .colab-df-convert {\n",
              "      background-color: #E8F0FE;\n",
              "      border: none;\n",
              "      border-radius: 50%;\n",
              "      cursor: pointer;\n",
              "      display: none;\n",
              "      fill: #1967D2;\n",
              "      height: 32px;\n",
              "      padding: 0 0 0 0;\n",
              "      width: 32px;\n",
              "    }\n",
              "\n",
              "    .colab-df-convert:hover {\n",
              "      background-color: #E2EBFA;\n",
              "      box-shadow: 0px 1px 2px rgba(60, 64, 67, 0.3), 0px 1px 3px 1px rgba(60, 64, 67, 0.15);\n",
              "      fill: #174EA6;\n",
              "    }\n",
              "\n",
              "    [theme=dark] .colab-df-convert {\n",
              "      background-color: #3B4455;\n",
              "      fill: #D2E3FC;\n",
              "    }\n",
              "\n",
              "    [theme=dark] .colab-df-convert:hover {\n",
              "      background-color: #434B5C;\n",
              "      box-shadow: 0px 1px 3px 1px rgba(0, 0, 0, 0.15);\n",
              "      filter: drop-shadow(0px 1px 2px rgba(0, 0, 0, 0.3));\n",
              "      fill: #FFFFFF;\n",
              "    }\n",
              "  </style>\n",
              "\n",
              "      <script>\n",
              "        const buttonEl =\n",
              "          document.querySelector('#df-d5dcc881-c625-48f8-93ee-8c3847b609d0 button.colab-df-convert');\n",
              "        buttonEl.style.display =\n",
              "          google.colab.kernel.accessAllowed ? 'block' : 'none';\n",
              "\n",
              "        async function convertToInteractive(key) {\n",
              "          const element = document.querySelector('#df-d5dcc881-c625-48f8-93ee-8c3847b609d0');\n",
              "          const dataTable =\n",
              "            await google.colab.kernel.invokeFunction('convertToInteractive',\n",
              "                                                     [key], {});\n",
              "          if (!dataTable) return;\n",
              "\n",
              "          const docLinkHtml = 'Like what you see? Visit the ' +\n",
              "            '<a target=\"_blank\" href=https://colab.research.google.com/notebooks/data_table.ipynb>data table notebook</a>'\n",
              "            + ' to learn more about interactive tables.';\n",
              "          element.innerHTML = '';\n",
              "          dataTable['output_type'] = 'display_data';\n",
              "          await google.colab.output.renderOutput(dataTable, element);\n",
              "          const docLink = document.createElement('div');\n",
              "          docLink.innerHTML = docLinkHtml;\n",
              "          element.appendChild(docLink);\n",
              "        }\n",
              "      </script>\n",
              "    </div>\n",
              "  </div>\n",
              "  "
            ]
          },
          "metadata": {},
          "execution_count": 4
        }
      ],
      "source": [
        "#pandas is essential for dataframes, will allow us to read from the csv file we need to. \n",
        "import pandas as pd\n",
        "\n",
        "#will need random and csv later\n",
        "import random\n",
        "import csv\n",
        "\n",
        "#stores all legal words into a variable called legal_words by reading from the file on my github repository\n",
        "legal_words = pd.read_csv('https://raw.githubusercontent.com/Arch200/JottoBottoPython/main/legalfour.csv')\n",
        "\n",
        "#the file is 1 row so it will try to output all the values, ordinarily this would only show the first few columns. \n",
        "#this ensures that the data has been collected.  \n",
        "legal_words.head()"
      ]
    },
    {
      "cell_type": "code",
      "source": [
        "#reads from the dataframe as a csv file\n",
        "csv_reader = csv.reader(legal_words)\n",
        "\n",
        "#stores all the legal words from the csv file into a list variable\n",
        "legal_words = list(csv_reader)\n",
        "\n",
        "#chooses a random word from the csv file, returns as single element list\n",
        "chosen_word = random.choice(legal_words)\n",
        "\n",
        "#extracts the word from the list so it appears as just the string\n",
        "chosen_word = chosen_word[0]\n",
        "\n",
        "#creats a set of all the letters in the chosen word\n",
        "chosen_word_set = set(chosen_word)\n"
      ],
      "metadata": {
        "id": "LRGpxjSdDjHS"
      },
      "execution_count": 5,
      "outputs": []
    },
    {
      "cell_type": "markdown",
      "source": [
        "# Actual Gameplay code"
      ],
      "metadata": {
        "id": "toJ0Kv81J9vU"
      }
    },
    {
      "cell_type": "code",
      "source": [
        "#asks the user to input the word that is their guess\n",
        "guess_word = str(input(\"Guess a four letter word: \"))\n",
        "\n",
        "#while the guess is not the same one the computer chose at random\n",
        "while guess_word != chosen_word:\n",
        "  \n",
        "  #initialises the count that will be used to count how many letters they have in common\n",
        "  same_letters_count=0\n",
        "  \n",
        "  #creates a set based on the word guessed\n",
        "  guess_word_set = set(guess_word)\n",
        "  \n",
        "  #this creates a list of the letters they two sets have in common\n",
        "  common_letters = list(chosen_word_set&guess_word_set)\n",
        "  \n",
        "  #counts the number of common letters using a for loop\n",
        "  for loop in common_letters:\n",
        "    same_letters_count+=1\n",
        "  \n",
        "  #outputs the number of common letters\n",
        "  print(same_letters_count)\n",
        "  \n",
        "  #asks user to guess again and informs them how to quit\n",
        "  guess_word = str(input(\"Guess Again or type 'x' to give up: \"))\n",
        "  \n",
        "  #if the user gives up, reveal chosen word and break loop\n",
        "  if guess_word == 'x':\n",
        "    print(\"the word was:\", chosen_word)\n",
        "    break\n",
        "#outputs a congratulations message if guessed correctly. \n",
        "if guess_word == chosen_word: \n",
        "  print(\"YOU GUESSED CORRECTLY!\")"
      ],
      "metadata": {
        "colab": {
          "base_uri": "https://localhost:8080/"
        },
        "id": "wXngc3rIE4y6",
        "outputId": "0a2f7361-243c-4b21-9681-a5cb5f5cfdf0"
      },
      "execution_count": 6,
      "outputs": [
        {
          "output_type": "stream",
          "name": "stdout",
          "text": [
            "Guess a four letter word: help\n",
            "1\n",
            "Guess Again or type 'x' to give up: pots\n",
            "1\n",
            "Guess Again or type 'x' to give up: spit\n",
            "1\n",
            "Guess Again or type 'x' to give up: spat\n",
            "1\n",
            "Guess Again or type 'x' to give up: jynx\n",
            "0\n",
            "Guess Again or type 'x' to give up: lips\n",
            "1\n",
            "Guess Again or type 'x' to give up: slit\n",
            "1\n",
            "Guess Again or type 'x' to give up: trye\n",
            "1\n",
            "Guess Again or type 'x' to give up: legs\n",
            "2\n",
            "Guess Again or type 'x' to give up: hugs\n",
            "2\n",
            "Guess Again or type 'x' to give up: bugs\n",
            "2\n",
            "Guess Again or type 'x' to give up: blue\n",
            "2\n",
            "Guess Again or type 'x' to give up: begs\n",
            "2\n",
            "Guess Again or type 'x' to give up: gist\n",
            "1\n",
            "Guess Again or type 'x' to give up: gust\n",
            "2\n",
            "Guess Again or type 'x' to give up: lugs\n",
            "2\n",
            "Guess Again or type 'x' to give up: guns\n",
            "2\n",
            "Guess Again or type 'x' to give up: sing\n",
            "1\n",
            "Guess Again or type 'x' to give up: sine\n",
            "2\n",
            "Guess Again or type 'x' to give up: blue\n",
            "2\n",
            "Guess Again or type 'x' to give up: glue\n",
            "2\n",
            "Guess Again or type 'x' to give up: tune\n",
            "2\n",
            "Guess Again or type 'x' to give up: tuna\n",
            "1\n",
            "Guess Again or type 'x' to give up: dune\n",
            "3\n",
            "Guess Again or type 'x' to give up: dunt\n",
            "2\n",
            "Guess Again or type 'x' to give up: duet\n",
            "3\n",
            "Guess Again or type 'x' to give up: duke\n",
            "3\n",
            "Guess Again or type 'x' to give up: duck\n",
            "2\n",
            "Guess Again or type 'x' to give up: puke\n",
            "2\n",
            "Guess Again or type 'x' to give up: dure\n",
            "3\n",
            "Guess Again or type 'x' to give up: dues\n",
            "4\n",
            "Guess Again or type 'x' to give up: sued\n",
            "YOU GUESSED CORRECTLY!\n"
          ]
        }
      ]
    },
    {
      "cell_type": "markdown",
      "source": [
        "# Reflection"
      ],
      "metadata": {
        "id": "ft8XOFF9KFdT"
      }
    },
    {
      "cell_type": "markdown",
      "source": [
        "In other projects, I have separated the code blocks into different functions. However, as the code is rather short and does not repeat the same functions over and over again and due to the formatting of this notebook being clear, I feel it unnecessary to format the code using functions at the moment. I feel this was a good opportunity to challenge my abilities with python and make use of different libraries. "
      ],
      "metadata": {
        "id": "Yh1MzmIbI1R6"
      }
    }
  ]
}